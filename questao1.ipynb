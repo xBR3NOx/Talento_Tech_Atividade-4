{
 "cells": [
  {
   "cell_type": "code",
   "execution_count": 1,
   "metadata": {},
   "outputs": [
    {
     "name": "stdout",
     "output_type": "stream",
     "text": [
      "  combustivel  idade  quilometragem         preco\n",
      "0      etanol     12          26342   7488.231220\n",
      "1    gasolina      8         169229   -220.222075\n",
      "2      etanol     11         199935 -15331.705450\n",
      "3      etanol     19         107308  -9001.490738\n",
      "4    gasolina     17         184155 -22264.855284\n",
      "Erro Quadrático Médio (MSE): 28874776.10\n"
     ]
    }
   ],
   "source": [
    "import pandas as pd\n",
    "import numpy as np\n",
    "from sklearn.compose import ColumnTransformer\n",
    "from sklearn.pipeline import Pipeline\n",
    "from sklearn.preprocessing import OneHotEncoder, StandardScaler\n",
    "from sklearn.linear_model import LinearRegression\n",
    "from sklearn.model_selection import train_test_split\n",
    "from sklearn.metrics import mean_squared_error\n",
    "\n",
    "# Criando dados fictícios\n",
    "np.random.seed(42)\n",
    "n_samples = 100\n",
    "\n",
    "# Categoria: Tipo de combustível\n",
    "combustivel = np.random.choice([\"gasolina\", \"diesel\", \"etanol\"], n_samples)\n",
    "\n",
    "# Numéricas: Idade do veículo e quilometragem\n",
    "idade = np.random.randint(1, 20, n_samples)\n",
    "quilometragem = np.random.randint(1000, 200000, n_samples)\n",
    "\n",
    "# Preço do veículo (variável alvo)\n",
    "preco = 20000 - (idade * 1000) - (quilometragem * 0.1) + np.random.normal(0, 5000, n_samples)\n",
    "\n",
    "# Criando um DataFrame\n",
    "data = pd.DataFrame({\n",
    "    'combustivel': combustivel,\n",
    "    'idade': idade,\n",
    "    'quilometragem': quilometragem,\n",
    "    'preco': preco\n",
    "})\n",
    "\n",
    "print(data.head())\n",
    "\n",
    "# Definindo as colunas categóricas e numéricas\n",
    "categorical_features = ['combustivel']\n",
    "numerical_features = ['idade', 'quilometragem']\n",
    "\n",
    "# Criando o ColumnTransformer\n",
    "preprocessor = ColumnTransformer(\n",
    "    transformers=[\n",
    "        ('cat', OneHotEncoder(), categorical_features),\n",
    "        ('num', StandardScaler(), numerical_features)\n",
    "    ])\n",
    "\n",
    "# Criando o pipeline\n",
    "pipeline = Pipeline(steps=[\n",
    "    ('preprocessor', preprocessor),\n",
    "    ('regressor', LinearRegression())\n",
    "])\n",
    "\n",
    "# Dividindo os dados em treino e teste\n",
    "X = data.drop('preco', axis=1)\n",
    "y = data['preco']\n",
    "X_train, X_test, y_train, y_test = train_test_split(X, y, test_size=0.2, random_state=42)\n",
    "\n",
    "# Treinando o modelo\n",
    "pipeline.fit(X_train, y_train)\n",
    "\n",
    "# Fazendo previsões\n",
    "y_pred = pipeline.predict(X_test)\n",
    "\n",
    "# Avaliando o modelo\n",
    "mse = mean_squared_error(y_test, y_pred)\n",
    "print(f'Erro Quadrático Médio (MSE): {mse:.2f}')"
   ]
  }
 ],
 "metadata": {
  "kernelspec": {
   "display_name": "Python 3",
   "language": "python",
   "name": "python3"
  },
  "language_info": {
   "codemirror_mode": {
    "name": "ipython",
    "version": 3
   },
   "file_extension": ".py",
   "mimetype": "text/x-python",
   "name": "python",
   "nbconvert_exporter": "python",
   "pygments_lexer": "ipython3",
   "version": "3.13.2"
  }
 },
 "nbformat": 4,
 "nbformat_minor": 2
}
